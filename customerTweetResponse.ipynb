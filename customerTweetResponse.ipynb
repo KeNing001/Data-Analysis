{
 "cells": [
  {
   "cell_type": "markdown",
   "id": "6b295a1f-127c-493a-bda6-6bd109c1816d",
   "metadata": {},
   "source": [
    "This data analysis project examines the Twitter Customer Service dataset to uncover patterns and relationships. The goal is to provide insights that help businesses make better decisions and enhance customer service and user experience."
   ]
  },
  {
   "cell_type": "markdown",
   "id": "ddec0b85-5746-491d-9846-429c0c923cef",
   "metadata": {},
   "source": [
    "<span style=\"font-family: Arial; font-size: 25px; font-weight: bold;\">Week 1: Data Preprocessing</span>"
   ]
  },
  {
   "cell_type": "markdown",
   "id": "6c2370d4-7cd5-401c-8322-edee510f3278",
   "metadata": {},
   "source": [
    "<span style=\"font-family: Arial;font-weight: bold;\">Step one: </span> Import Data into Jupyter Notebook using python\n",
    "\n",
    "Successfully loaded dataset into Jupyter Notebook and set up pandas, matplotlib, and seaborn for analysis. "
   ]
  },
  {
   "cell_type": "code",
   "execution_count": 1,
   "id": "2a78a0ce-67bf-4e24-9624-3f3fbfec8334",
   "metadata": {},
   "outputs": [
    {
     "data": {
      "text/plain": [
       "'/Library/Frameworks/Python.framework/Versions/3.12/bin/python3.12'"
      ]
     },
     "execution_count": 1,
     "metadata": {},
     "output_type": "execute_result"
    }
   ],
   "source": [
    "import sys\n",
    "sys.executable"
   ]
  },
  {
   "cell_type": "code",
   "execution_count": 2,
   "id": "9d3540c4-0699-4a4e-832d-315cb9ce7574",
   "metadata": {},
   "outputs": [
    {
     "name": "stdout",
     "output_type": "stream",
     "text": [
      "Requirement already satisfied: pandas in /Library/Frameworks/Python.framework/Versions/3.12/lib/python3.12/site-packages (2.2.1)\n",
      "Requirement already satisfied: numpy<2,>=1.26.0 in /Library/Frameworks/Python.framework/Versions/3.12/lib/python3.12/site-packages (from pandas) (1.26.4)\n",
      "Requirement already satisfied: python-dateutil>=2.8.2 in /Library/Frameworks/Python.framework/Versions/3.12/lib/python3.12/site-packages (from pandas) (2.9.0.post0)\n",
      "Requirement already satisfied: pytz>=2020.1 in /Library/Frameworks/Python.framework/Versions/3.12/lib/python3.12/site-packages (from pandas) (2024.1)\n",
      "Requirement already satisfied: tzdata>=2022.7 in /Library/Frameworks/Python.framework/Versions/3.12/lib/python3.12/site-packages (from pandas) (2024.1)\n",
      "Requirement already satisfied: six>=1.5 in /Library/Frameworks/Python.framework/Versions/3.12/lib/python3.12/site-packages (from python-dateutil>=2.8.2->pandas) (1.16.0)\n"
     ]
    }
   ],
   "source": [
    "!pip3 install pandas\n"
   ]
  },
  {
   "cell_type": "code",
   "execution_count": 3,
   "id": "a3b4b4a8-25c8-4c5f-886b-7c7f5f2fb57d",
   "metadata": {},
   "outputs": [],
   "source": [
    "import pandas as pd\n",
    "import matplotlib.pyplot as plt\n",
    "import seaborn as sns\n"
   ]
  },
  {
   "cell_type": "code",
   "execution_count": 4,
   "id": "00459bce-ff39-435d-b31d-8d63b8572428",
   "metadata": {},
   "outputs": [],
   "source": [
    "df = pd.read_csv(\"/Users/kekening/Downloads/twcs (1).csv\")"
   ]
  },
  {
   "cell_type": "markdown",
   "id": "86a74544-bc39-465c-b166-e2580b8661e8",
   "metadata": {},
   "source": [
    "<span style=\"font-family: Arial; font-weight: bold;\"> Step two: </span> Obtain general information about the dataset\n",
    "\n",
    "Get some basic idea about what the dataset looks like, what does the column means. "
   ]
  },
  {
   "cell_type": "code",
   "execution_count": 5,
   "id": "29bdb6c6-1497-4c95-80a6-1415acbeac74",
   "metadata": {},
   "outputs": [
    {
     "name": "stdout",
     "output_type": "stream",
     "text": [
      "Data Quality Check:\n",
      "DataFrame Info:\n",
      "<class 'pandas.core.frame.DataFrame'>\n",
      "RangeIndex: 2811774 entries, 0 to 2811773\n",
      "Data columns (total 7 columns):\n",
      " #   Column                   Dtype  \n",
      "---  ------                   -----  \n",
      " 0   tweet_id                 int64  \n",
      " 1   author_id                object \n",
      " 2   inbound                  bool   \n",
      " 3   created_at               object \n",
      " 4   text                     object \n",
      " 5   response_tweet_id        object \n",
      " 6   in_response_to_tweet_id  float64\n",
      "dtypes: bool(1), float64(1), int64(1), object(4)\n",
      "memory usage: 131.4+ MB\n"
     ]
    }
   ],
   "source": [
    "# Data Quality Check\n",
    "print(\"Data Quality Check:\")\n",
    "\n",
    "print(\"DataFrame Info:\")\n",
    "df.info()"
   ]
  },
  {
   "cell_type": "code",
   "execution_count": 6,
   "id": "bed09755-c0d9-42f6-b125-5d2c3e100e26",
   "metadata": {},
   "outputs": [
    {
     "name": "stdout",
     "output_type": "stream",
     "text": [
      "\n",
      "Descriptive Statistics:\n"
     ]
    },
    {
     "data": {
      "text/html": [
       "<div>\n",
       "<style scoped>\n",
       "    .dataframe tbody tr th:only-of-type {\n",
       "        vertical-align: middle;\n",
       "    }\n",
       "\n",
       "    .dataframe tbody tr th {\n",
       "        vertical-align: top;\n",
       "    }\n",
       "\n",
       "    .dataframe thead th {\n",
       "        text-align: right;\n",
       "    }\n",
       "</style>\n",
       "<table border=\"1\" class=\"dataframe\">\n",
       "  <thead>\n",
       "    <tr style=\"text-align: right;\">\n",
       "      <th></th>\n",
       "      <th>tweet_id</th>\n",
       "      <th>in_response_to_tweet_id</th>\n",
       "    </tr>\n",
       "  </thead>\n",
       "  <tbody>\n",
       "    <tr>\n",
       "      <th>count</th>\n",
       "      <td>2.811774e+06</td>\n",
       "      <td>2.017439e+06</td>\n",
       "    </tr>\n",
       "    <tr>\n",
       "      <th>mean</th>\n",
       "      <td>1.504565e+06</td>\n",
       "      <td>1.463141e+06</td>\n",
       "    </tr>\n",
       "    <tr>\n",
       "      <th>std</th>\n",
       "      <td>8.616450e+05</td>\n",
       "      <td>8.665730e+05</td>\n",
       "    </tr>\n",
       "    <tr>\n",
       "      <th>min</th>\n",
       "      <td>1.000000e+00</td>\n",
       "      <td>1.000000e+00</td>\n",
       "    </tr>\n",
       "    <tr>\n",
       "      <th>25%</th>\n",
       "      <td>7.601652e+05</td>\n",
       "      <td>7.155105e+05</td>\n",
       "    </tr>\n",
       "    <tr>\n",
       "      <th>50%</th>\n",
       "      <td>1.507772e+06</td>\n",
       "      <td>1.439805e+06</td>\n",
       "    </tr>\n",
       "    <tr>\n",
       "      <th>75%</th>\n",
       "      <td>2.253296e+06</td>\n",
       "      <td>2.220646e+06</td>\n",
       "    </tr>\n",
       "    <tr>\n",
       "      <th>max</th>\n",
       "      <td>2.987950e+06</td>\n",
       "      <td>2.987950e+06</td>\n",
       "    </tr>\n",
       "  </tbody>\n",
       "</table>\n",
       "</div>"
      ],
      "text/plain": [
       "           tweet_id  in_response_to_tweet_id\n",
       "count  2.811774e+06             2.017439e+06\n",
       "mean   1.504565e+06             1.463141e+06\n",
       "std    8.616450e+05             8.665730e+05\n",
       "min    1.000000e+00             1.000000e+00\n",
       "25%    7.601652e+05             7.155105e+05\n",
       "50%    1.507772e+06             1.439805e+06\n",
       "75%    2.253296e+06             2.220646e+06\n",
       "max    2.987950e+06             2.987950e+06"
      ]
     },
     "execution_count": 6,
     "metadata": {},
     "output_type": "execute_result"
    }
   ],
   "source": [
    "print(\"\\nDescriptive Statistics:\")\n",
    "df.describe()"
   ]
  },
  {
   "cell_type": "markdown",
   "id": "7aa90912-4ac0-4344-9e12-f2423d6f4675",
   "metadata": {},
   "source": [
    "<div style=\"background-color: #e6ffe6; padding: 10px;\">\n",
    "\n",
    "By using .describe() method, we are able to tell that we are dealing with large dataset. The count for tweet id is about 2.81 millions and response tweet count is about 2.02 millions.\n",
    "\n",
    "</div>"
   ]
  },
  {
   "cell_type": "code",
   "execution_count": 7,
   "id": "fbd57266-1a42-4e1c-920b-783d671ac4d4",
   "metadata": {},
   "outputs": [
    {
     "name": "stdout",
     "output_type": "stream",
     "text": [
      "\n",
      "First few rows of the DataFrame:\n"
     ]
    },
    {
     "data": {
      "text/html": [
       "<div>\n",
       "<style scoped>\n",
       "    .dataframe tbody tr th:only-of-type {\n",
       "        vertical-align: middle;\n",
       "    }\n",
       "\n",
       "    .dataframe tbody tr th {\n",
       "        vertical-align: top;\n",
       "    }\n",
       "\n",
       "    .dataframe thead th {\n",
       "        text-align: right;\n",
       "    }\n",
       "</style>\n",
       "<table border=\"1\" class=\"dataframe\">\n",
       "  <thead>\n",
       "    <tr style=\"text-align: right;\">\n",
       "      <th></th>\n",
       "      <th>tweet_id</th>\n",
       "      <th>author_id</th>\n",
       "      <th>inbound</th>\n",
       "      <th>created_at</th>\n",
       "      <th>text</th>\n",
       "      <th>response_tweet_id</th>\n",
       "      <th>in_response_to_tweet_id</th>\n",
       "    </tr>\n",
       "  </thead>\n",
       "  <tbody>\n",
       "    <tr>\n",
       "      <th>0</th>\n",
       "      <td>1</td>\n",
       "      <td>sprintcare</td>\n",
       "      <td>False</td>\n",
       "      <td>Tue Oct 31 22:10:47 +0000 2017</td>\n",
       "      <td>@115712 I understand. I would like to assist y...</td>\n",
       "      <td>2</td>\n",
       "      <td>3.0</td>\n",
       "    </tr>\n",
       "    <tr>\n",
       "      <th>1</th>\n",
       "      <td>2</td>\n",
       "      <td>115712</td>\n",
       "      <td>True</td>\n",
       "      <td>Tue Oct 31 22:11:45 +0000 2017</td>\n",
       "      <td>@sprintcare and how do you propose we do that</td>\n",
       "      <td>NaN</td>\n",
       "      <td>1.0</td>\n",
       "    </tr>\n",
       "    <tr>\n",
       "      <th>2</th>\n",
       "      <td>3</td>\n",
       "      <td>115712</td>\n",
       "      <td>True</td>\n",
       "      <td>Tue Oct 31 22:08:27 +0000 2017</td>\n",
       "      <td>@sprintcare I have sent several private messag...</td>\n",
       "      <td>1</td>\n",
       "      <td>4.0</td>\n",
       "    </tr>\n",
       "    <tr>\n",
       "      <th>3</th>\n",
       "      <td>4</td>\n",
       "      <td>sprintcare</td>\n",
       "      <td>False</td>\n",
       "      <td>Tue Oct 31 21:54:49 +0000 2017</td>\n",
       "      <td>@115712 Please send us a Private Message so th...</td>\n",
       "      <td>3</td>\n",
       "      <td>5.0</td>\n",
       "    </tr>\n",
       "    <tr>\n",
       "      <th>4</th>\n",
       "      <td>5</td>\n",
       "      <td>115712</td>\n",
       "      <td>True</td>\n",
       "      <td>Tue Oct 31 21:49:35 +0000 2017</td>\n",
       "      <td>@sprintcare I did.</td>\n",
       "      <td>4</td>\n",
       "      <td>6.0</td>\n",
       "    </tr>\n",
       "  </tbody>\n",
       "</table>\n",
       "</div>"
      ],
      "text/plain": [
       "   tweet_id   author_id  inbound                      created_at  \\\n",
       "0         1  sprintcare    False  Tue Oct 31 22:10:47 +0000 2017   \n",
       "1         2      115712     True  Tue Oct 31 22:11:45 +0000 2017   \n",
       "2         3      115712     True  Tue Oct 31 22:08:27 +0000 2017   \n",
       "3         4  sprintcare    False  Tue Oct 31 21:54:49 +0000 2017   \n",
       "4         5      115712     True  Tue Oct 31 21:49:35 +0000 2017   \n",
       "\n",
       "                                                text response_tweet_id  \\\n",
       "0  @115712 I understand. I would like to assist y...                 2   \n",
       "1      @sprintcare and how do you propose we do that               NaN   \n",
       "2  @sprintcare I have sent several private messag...                 1   \n",
       "3  @115712 Please send us a Private Message so th...                 3   \n",
       "4                                 @sprintcare I did.                 4   \n",
       "\n",
       "   in_response_to_tweet_id  \n",
       "0                      3.0  \n",
       "1                      1.0  \n",
       "2                      4.0  \n",
       "3                      5.0  \n",
       "4                      6.0  "
      ]
     },
     "execution_count": 7,
     "metadata": {},
     "output_type": "execute_result"
    }
   ],
   "source": [
    "print(\"\\nFirst few rows of the DataFrame:\")\n",
    "df.head()"
   ]
  },
  {
   "cell_type": "markdown",
   "id": "8860f2c3-5825-4877-a2d9-d864a74d824d",
   "metadata": {},
   "source": [
    "<span style=\"font-family: Arial; font-weight: bold;\"> Step three: </span> Data Preprocessing\n",
    "Check missing values, duplicates, and outliers. "
   ]
  },
  {
   "cell_type": "code",
   "execution_count": 8,
   "id": "b4d20f71-5fb0-4876-9b18-e92fff481cf8",
   "metadata": {},
   "outputs": [
    {
     "name": "stdout",
     "output_type": "stream",
     "text": [
      "tweet_id                         0\n",
      "author_id                        0\n",
      "inbound                          0\n",
      "created_at                       0\n",
      "text                             0\n",
      "response_tweet_id          1040629\n",
      "in_response_to_tweet_id     794335\n",
      "dtype: int64\n",
      "0\n"
     ]
    }
   ],
   "source": [
    "# Check for missing values\n",
    "print(df.isnull().sum())\n",
    "\n",
    "# Check for duplicates\n",
    "print(df.duplicated().sum())\n"
   ]
  },
  {
   "cell_type": "code",
   "execution_count": 9,
   "id": "0ae1fa52-51ad-49de-9b5d-4f1596a43fff",
   "metadata": {},
   "outputs": [
    {
     "name": "stdout",
     "output_type": "stream",
     "text": [
      "\n",
      "Missing values after cleaning:\n",
      "tweet_id                   0\n",
      "author_id                  0\n",
      "inbound                    0\n",
      "created_at                 0\n",
      "text                       0\n",
      "response_tweet_id          0\n",
      "in_response_to_tweet_id    0\n",
      "dtype: int64\n"
     ]
    }
   ],
   "source": [
    "# Fill missing values with zero\n",
    "df['response_tweet_id'] = df['response_tweet_id'].fillna(0)\n",
    "df['in_response_to_tweet_id'] = df['in_response_to_tweet_id'].fillna(0)\n",
    "\n",
    "print(\"\\nMissing values after cleaning:\")\n",
    "print(df.isnull().sum())\n"
   ]
  },
  {
   "cell_type": "markdown",
   "id": "93ddb755-51ef-4bac-aee0-d83931f11d1b",
   "metadata": {},
   "source": [
    "<span style=\"font-family: Arial; font-size: 25px; font-weight: bold;\">Week 2-3: Conduct Exploratory Data Analysis & Data Cleaning</span>\n",
    "\n",
    "The dataset has been reorganized by time-based grouping, and a standard deviation has been computed with time converted to nanoseconds to eliminate outliers. Exploratory Data Analysis (EDA) is also conducted this week to find interesting trends/pattern about what the data is trying to tell us. \n",
    "\n",
    "By setting up EDA questions we are able to find some interesting trends: \n",
    "\n",
    "1) There is more 'Inbound' than 'Outbound' Response, meaning that there are more question that's been ask but didn't have a cooresponding  answer. This result is within expectation since some tweets might not be questions, could just be promotions, lost connection, or other issues.\n",
    "2) There are about 2.8 millions of tweets within the year of 2017, and the top 20 users are customer service from big industry companies.\n",
    "3) The busiest Twitter user in 2017 posted around 1300 tweets.\n",
    "4) There's a significant increase in the number of customer support tweets received from October to December 2017.  "
   ]
  },
  {
   "cell_type": "code",
   "execution_count": 10,
   "id": "d4bd883d-e323-4f57-bf5e-8f679ca96b58",
   "metadata": {},
   "outputs": [
    {
     "name": "stdout",
     "output_type": "stream",
     "text": [
      "\n",
      "Outliers in 'created_at' column:\n",
      "         tweet_id     author_id  inbound           created_at  \\\n",
      "255           348        115798     True  1314588005000000000   \n",
      "315           609         Delta    False  1470447843000000000   \n",
      "317           611        115818     True  1470447110000000000   \n",
      "4546         6609         Delta    False  1502232306000000000   \n",
      "4547         6610        117166     True  1502232368000000000   \n",
      "...           ...           ...      ...                  ...   \n",
      "2808501   2984741       AskLyft    False  1487361617000000000   \n",
      "2810222   2986427       AskCiti    False  1502974803000000000   \n",
      "2810224   2986429        503274     True  1502950555000000000   \n",
      "2811464   2987646  SouthwestAir    False  1503098192000000000   \n",
      "2811466   2987648        823773     True  1503096251000000000   \n",
      "\n",
      "                                                      text  response_tweet_id  \\\n",
      "255      Lost your booking number? No worries, just dro...                NaN   \n",
      "315      @115818 Glad to check. Pls, DM your confirmati...              610.0   \n",
      "317      @DELTA i booked my flight using delta amex car...              609.0   \n",
      "4546     @117166 That's not good. Please return to the ...             6610.0   \n",
      "4547     @Delta I live an hour north of the ATL airport...             6612.0   \n",
      "...                                                    ...                ...   \n",
      "2808501  Make some extra cash when you refer your frien...          2984739.0   \n",
      "2810222  @503274 Citibank Philippines, please follow th...          2986428.0   \n",
      "2810224  @askciti do you have an  email address where w...          2986427.0   \n",
      "2811464  @823773 Our apologies if our Customer Service ...          2987647.0   \n",
      "2811466  @SouthwestAir You should be proud of Rachel on...          2987646.0   \n",
      "\n",
      "         in_response_to_tweet_id  \n",
      "255                            0  \n",
      "315                          611  \n",
      "317                            0  \n",
      "4546                        6611  \n",
      "4547                        6609  \n",
      "...                          ...  \n",
      "2808501                        0  \n",
      "2810222                  2986429  \n",
      "2810224                        0  \n",
      "2811464                  2987648  \n",
      "2811466                        0  \n",
      "\n",
      "[7892 rows x 7 columns]\n"
     ]
    }
   ],
   "source": [
    "# Reagrange data by time-grouping\n",
    "\n",
    "# Convert 'response_tweet_id' and 'in_response_to_tweet_id' to numeric type int64\n",
    "df['response_tweet_id'] = pd.to_numeric(df['response_tweet_id'], errors='coerce', downcast='integer')\n",
    "df['in_response_to_tweet_id'] = pd.to_numeric(df['in_response_to_tweet_id'], errors='coerce', downcast='integer')\n",
    "\n",
    "# Convert 'created_at' to datetime with explicit format\n",
    "df['created_at'] = pd.to_datetime(df['created_at'], format='%a %b %d %H:%M:%S +0000 %Y')\n",
    "\n",
    "# Convert 'created_at' to Unix timestamps (nano sec)\n",
    "df['created_at'] = df['created_at'].astype(int)  \n",
    "\n",
    "# Calculate the first quartile (Q1)\n",
    "Q1 = df['created_at'].quantile(0.25)\n",
    "\n",
    "# Calculate the third quartile (Q3)\n",
    "Q3 = df['created_at'].quantile(0.75)\n",
    "\n",
    "# Calculate the interquartile range (IQR)\n",
    "IQR = Q3 - Q1\n",
    "\n",
    "# Define the lower and upper bounds for outliers\n",
    "lower_bound = Q1 - 1.5 * IQR\n",
    "upper_bound = Q3 + 1.5 * IQR\n",
    "\n",
    "# Identify outliers\n",
    "outliers = df[(df['created_at'] < lower_bound) | (df['created_at'] > upper_bound)]\n",
    "\n",
    "# Print the outliers \n",
    "print(\"\\nOutliers in 'created_at' column:\")\n",
    "print(outliers)\n",
    "\n",
    "# Remove outliers\n",
    "df_no_outliers = df[(df['created_at'] >= lower_bound) & (df['created_at'] <= upper_bound)]"
   ]
  },
  {
   "cell_type": "markdown",
   "id": "0d8f2566-e1f4-43f1-89da-4c76c4bc945b",
   "metadata": {},
   "source": [
    "<span style=\"font-family: Arial; font-weight: bold;\"> EDA Question 1: </span> How many are inbound and outbound responses in the dataset?"
   ]
  },
  {
   "cell_type": "code",
   "execution_count": 11,
   "id": "5f4a99d6-c24a-4978-8c3d-9779923ecb01",
   "metadata": {},
   "outputs": [
    {
     "name": "stdout",
     "output_type": "stream",
     "text": [
      "Number of Inbound Responses: 1537843\n",
      "Number of Outbound Responses: 1273931\n"
     ]
    }
   ],
   "source": [
    "# Count the number of inbound and outbound responses\n",
    "response_counts = df['inbound'].value_counts()\n",
    "\n",
    "# Print the counts\n",
    "print(\"Number of Inbound Responses:\", response_counts[True])\n",
    "print(\"Number of Outbound Responses:\", response_counts[False])\n"
   ]
  },
  {
   "cell_type": "markdown",
   "id": "2e892978-744d-4fe3-ab61-ae84f4937da9",
   "metadata": {},
   "source": [
    "<div style=\"background-color: #e6ffe6; padding: 10px;\">\n",
    "Answer: ~1.5 millions for Inbound response and ~1.2 millions for Outbound Response. \n",
    "By this data we can tell that there are about 0.3 millions of tweets that didn't get a reply or a support back. \n",
    "\n",
    "</div>"
   ]
  },
  {
   "cell_type": "markdown",
   "id": "9d76221e-37bf-456e-8a06-07cd42d1d28d",
   "metadata": {},
   "source": [
    "<span style=\"font-family: Arial; font-weight: bold;\"> EDA Question 2: </span> How many unique tweets are there and top 20 Twitter User? "
   ]
  },
  {
   "cell_type": "code",
   "execution_count": 12,
   "id": "908cc90a-3704-410e-86a5-e0d138a7e7db",
   "metadata": {},
   "outputs": [
    {
     "name": "stdout",
     "output_type": "stream",
     "text": [
      "Number of Unique Tweets: 2811774\n"
     ]
    }
   ],
   "source": [
    "# Number of unique tweets\n",
    "unique_tweets = df['tweet_id'].nunique()\n",
    "print(\"Number of Unique Tweets:\", unique_tweets)"
   ]
  },
  {
   "cell_type": "code",
   "execution_count": 13,
   "id": "92d8264e-320c-4f90-9bfd-a39113b0b587",
   "metadata": {},
   "outputs": [
    {
     "name": "stdout",
     "output_type": "stream",
     "text": [
      "\n",
      "Top 20 Twitter Users:\n",
      "author_id\n",
      "AmazonHelp         169840\n",
      "AppleSupport       106860\n",
      "Uber_Support        56270\n",
      "SpotifyCares        43265\n",
      "Delta               42253\n",
      "Tesco               38573\n",
      "AmericanAir         36764\n",
      "TMobileHelp         34317\n",
      "comcastcares        33031\n",
      "British_Airways     29361\n",
      "SouthwestAir        28977\n",
      "VirginTrains        27817\n",
      "Ask_Spectrum        25860\n",
      "XboxSupport         24557\n",
      "sprintcare          22381\n",
      "hulu_support        21872\n",
      "sainsburys          19466\n",
      "GWRHelp             19364\n",
      "AskPlayStation      19098\n",
      "ChipotleTweets      18749\n",
      "Name: count, dtype: int64\n"
     ]
    }
   ],
   "source": [
    "# Top 20 Twitter users\n",
    "top_20_users = df['author_id'].value_counts().head(20)\n",
    "print(\"\\nTop 20 Twitter Users:\")\n",
    "print(top_20_users)"
   ]
  },
  {
   "cell_type": "code",
   "execution_count": 14,
   "id": "124f40c2-b57d-454e-ab7a-2eefbf0ced36",
   "metadata": {},
   "outputs": [
    {
     "data": {
      "image/png": "[encoded data removed]",
      "text/plain": [
       "<Figure size 1000x600 with 1 Axes>"
      ]
     },
     "metadata": {},
     "output_type": "display_data"
    }
   ],
   "source": [
    "# Count the number of tweets per author\n",
    "tweet_counts = df['author_id'].value_counts().head(20)\n",
    "\n",
    "# Visualize the top Twitter users by number of tweets\n",
    "plt.figure(figsize=(10, 6))\n",
    "sns.barplot(x=tweet_counts.values, y=tweet_counts.index, palette='viridis', hue=tweet_counts.index, legend=False)\n",
    "plt.title('Top Twitter Users by Number of Tweets')\n",
    "plt.xlabel('Number of Tweets')\n",
    "plt.ylabel('Author ID')\n",
    "plt.tight_layout()\n",
    "plt.show()"
   ]
  },
  {
   "cell_type": "markdown",
   "id": "f32794d3-0425-4b9b-94cb-67eb1f8dd829",
   "metadata": {},
   "source": [
    "<div style=\"background-color: #e6ffe6; padding: 10px;\">\n",
    "Answer: There are about 2.8 millions of unique tweets, and the top 20 users are 'AmazonHelp', 'AppleSupport', 'Uber_support', 'SpotifyCares', 'Delta',... mostly large companys from various industry. \n",
    "\n",
    "</div>"
   ]
  },
  {
   "cell_type": "code",
   "execution_count": 15,
   "id": "81b41a0a-4b3c-45cc-a692-5cb81e156c32",
   "metadata": {},
   "outputs": [
    {
     "data": {
      "image/png": "[encoded data removed]",
      "text/plain": [
       "<Figure size 1000x600 with 1 Axes>"
      ]
     },
     "metadata": {},
     "output_type": "display_data"
    }
   ],
   "source": [
    "# Count the number of responses per author\n",
    "response_counts = df[df['inbound']]['author_id'].value_counts().head(10)\n",
    "\n",
    "# Visualize the top authors by response\n",
    "plt.figure(figsize=(10, 6))\n",
    "sns.barplot(x=response_counts.index, y=response_counts.values, palette='magma', hue=response_counts.index, legend=False)\n",
    "plt.title('Top Authors by Response')\n",
    "plt.xlabel('Author ID')\n",
    "plt.ylabel('Number of Responses')\n",
    "plt.xticks(rotation=45)\n",
    "plt.tight_layout()\n",
    "plt.show()"
   ]
  },
  {
   "cell_type": "markdown",
   "id": "e3107d14-1a44-419b-a853-29898cafffbc",
   "metadata": {},
   "source": [
    "Those are the top twitter users with the most questions and response. "
   ]
  },
  {
   "cell_type": "code",
   "execution_count": 16,
   "id": "775903db-f9cd-4629-8e32-30916d63431d",
   "metadata": {},
   "outputs": [
    {
     "data": {
      "image/png": "[encoded data removed]",
      "text/plain": [
       "<Figure size 2000x600 with 1 Axes>"
      ]
     },
     "metadata": {},
     "output_type": "display_data"
    }
   ],
   "source": [
    "# Convert 'created_at' column to datetime format\n",
    "df['created_at'] = pd.to_datetime(df['created_at']) # , format='%a %b %d %H:%M:%S +0000 %Y')\n",
    "\n",
    "# Extract date from the 'created_at' column\n",
    "df['date'] = df['created_at'].dt.date\n",
    "\n",
    "# Count the number of tweets by date\n",
    "tweets_by_date = df['date'].value_counts().sort_index()\n",
    "tweets_by_date = tweets_by_date[tweets_by_date >= 100] #lower limit\n",
    "\n",
    "# Plot the number of tweets by date\n",
    "plt.figure(figsize=(20, 6))\n",
    "tweets_by_date.plot(kind='bar', color='skyblue')\n",
    "plt.title('Number of Tweets by Date')\n",
    "plt.xlabel('Date')\n",
    "plt.ylabel('Number of Tweets')\n",
    "plt.xticks(rotation=45)\n",
    "plt.tight_layout()\n",
    "plt.show()"
   ]
  },
  {
   "cell_type": "markdown",
   "id": "9f435951-0749-4e53-9945-6e791f3e2279",
   "metadata": {},
   "source": [
    "We have seen that the dataset seems to form a negative skewed curve starting from Ocotber 2017."
   ]
  },
  {
   "cell_type": "code",
   "execution_count": 17,
   "id": "aa92fdbc-d295-43ce-b8f2-2266cfd9daee",
   "metadata": {},
   "outputs": [
    {
     "data": {
      "image/png": "[encoded data removed]",
      "text/plain": [
       "<Figure size 1500x600 with 1 Axes>"
      ]
     },
     "metadata": {},
     "output_type": "display_data"
    }
   ],
   "source": [
    "# Convert 'created_at' column to datetime format\n",
    "df['created_at'] = pd.to_datetime(df['created_at']) # , format='%a %b %d %H:%M:%S +0000 %Y')\n",
    "\n",
    "# Extract date from the 'created_at' column\n",
    "df['date'] = df['created_at'].dt.date\n",
    "\n",
    "# Count the number of tweets by date\n",
    "tweets_by_date = df['date'].value_counts().sort_index()\n",
    "tweets_by_date = tweets_by_date[tweets_by_date >= 500] #lower limit\n",
    "\n",
    "# Plot the number of tweets by date\n",
    "plt.figure(figsize=(15, 6))\n",
    "tweets_by_date.plot(kind='bar', color='skyblue')\n",
    "plt.title('Number of Tweets by Date')\n",
    "plt.xlabel('Date')\n",
    "plt.ylabel('Number of Tweets')\n",
    "plt.xticks(rotation=45)\n",
    "plt.tight_layout()\n",
    "plt.show()\n"
   ]
  },
  {
   "cell_type": "markdown",
   "id": "346b95a3-89fb-4bb6-b8e8-bc5990506d83",
   "metadata": {},
   "source": [
    "<div style=\"background-color: #e6ffe6; padding: 10px;\">\n",
    "After implementing a restriction of at least 500 tweets per date, we discovered a nearly exponential increase in tweet volume from October through December 2017. With domain knowledge, we can speculate that this trend may be related to President Donald Trump's Twitter activities regarding political controversy and the impact of social media on governance. Additionally, Twitter's suspension of approximately 58 million user accounts could also contribute to this phenomenon. \n",
    "</div>"
   ]
  },
  {
   "cell_type": "markdown",
   "id": "0c4b1834-04ba-4657-afc0-161bb19747c1",
   "metadata": {},
   "source": [
    "<span style=\"font-family: Arial; font-size: 25px; font-weight: bold;\">Week 4: Data Cleaning (Text Cleaning)</span>\n",
    "\n",
    "Keep cleaning the data, focusing on text cleanup to extract valuable insights from the text content."
   ]
  },
  {
   "cell_type": "code",
   "execution_count": 18,
   "id": "fe123e57-d77f-4e5f-b61e-8ccfb7a71bf3",
   "metadata": {},
   "outputs": [
    {
     "name": "stdout",
     "output_type": "stream",
     "text": [
      "shape is: (2811774, 1)\n"
     ]
    },
    {
     "data": {
      "text/html": [
       "<div>\n",
       "<style scoped>\n",
       "    .dataframe tbody tr th:only-of-type {\n",
       "        vertical-align: middle;\n",
       "    }\n",
       "\n",
       "    .dataframe tbody tr th {\n",
       "        vertical-align: top;\n",
       "    }\n",
       "\n",
       "    .dataframe thead th {\n",
       "        text-align: right;\n",
       "    }\n",
       "</style>\n",
       "<table border=\"1\" class=\"dataframe\">\n",
       "  <thead>\n",
       "    <tr style=\"text-align: right;\">\n",
       "      <th></th>\n",
       "      <th>text</th>\n",
       "    </tr>\n",
       "  </thead>\n",
       "  <tbody>\n",
       "    <tr>\n",
       "      <th>0</th>\n",
       "      <td>@115712 I understand. I would like to assist y...</td>\n",
       "    </tr>\n",
       "    <tr>\n",
       "      <th>1</th>\n",
       "      <td>@sprintcare and how do you propose we do that</td>\n",
       "    </tr>\n",
       "    <tr>\n",
       "      <th>2</th>\n",
       "      <td>@sprintcare I have sent several private messag...</td>\n",
       "    </tr>\n",
       "    <tr>\n",
       "      <th>3</th>\n",
       "      <td>@115712 Please send us a Private Message so th...</td>\n",
       "    </tr>\n",
       "    <tr>\n",
       "      <th>4</th>\n",
       "      <td>@sprintcare I did.</td>\n",
       "    </tr>\n",
       "  </tbody>\n",
       "</table>\n",
       "</div>"
      ],
      "text/plain": [
       "                                                text\n",
       "0  @115712 I understand. I would like to assist y...\n",
       "1      @sprintcare and how do you propose we do that\n",
       "2  @sprintcare I have sent several private messag...\n",
       "3  @115712 Please send us a Private Message so th...\n",
       "4                                 @sprintcare I did."
      ]
     },
     "execution_count": 18,
     "metadata": {},
     "output_type": "execute_result"
    }
   ],
   "source": [
    "# Text Cleaning Formate\n",
    "df = df[['text']]\n",
    "print('shape is:', df.shape)\n",
    "df.head()"
   ]
  },
  {
   "cell_type": "code",
   "execution_count": 19,
   "id": "1429b21a-a55d-4c21-ad28-9f09343e08bc",
   "metadata": {},
   "outputs": [
    {
     "data": {
      "text/html": [
       "<div>\n",
       "<style scoped>\n",
       "    .dataframe tbody tr th:only-of-type {\n",
       "        vertical-align: middle;\n",
       "    }\n",
       "\n",
       "    .dataframe tbody tr th {\n",
       "        vertical-align: top;\n",
       "    }\n",
       "\n",
       "    .dataframe thead th {\n",
       "        text-align: right;\n",
       "    }\n",
       "</style>\n",
       "<table border=\"1\" class=\"dataframe\">\n",
       "  <thead>\n",
       "    <tr style=\"text-align: right;\">\n",
       "      <th></th>\n",
       "      <th>text</th>\n",
       "      <th>text_lower</th>\n",
       "    </tr>\n",
       "  </thead>\n",
       "  <tbody>\n",
       "    <tr>\n",
       "      <th>0</th>\n",
       "      <td>@115712 I understand. I would like to assist y...</td>\n",
       "      <td>@115712 i understand. i would like to assist y...</td>\n",
       "    </tr>\n",
       "    <tr>\n",
       "      <th>1</th>\n",
       "      <td>@sprintcare and how do you propose we do that</td>\n",
       "      <td>@sprintcare and how do you propose we do that</td>\n",
       "    </tr>\n",
       "    <tr>\n",
       "      <th>2</th>\n",
       "      <td>@sprintcare I have sent several private messag...</td>\n",
       "      <td>@sprintcare i have sent several private messag...</td>\n",
       "    </tr>\n",
       "    <tr>\n",
       "      <th>3</th>\n",
       "      <td>@115712 Please send us a Private Message so th...</td>\n",
       "      <td>@115712 please send us a private message so th...</td>\n",
       "    </tr>\n",
       "    <tr>\n",
       "      <th>4</th>\n",
       "      <td>@sprintcare I did.</td>\n",
       "      <td>@sprintcare i did.</td>\n",
       "    </tr>\n",
       "    <tr>\n",
       "      <th>5</th>\n",
       "      <td>@115712 Can you please send us a private messa...</td>\n",
       "      <td>@115712 can you please send us a private messa...</td>\n",
       "    </tr>\n",
       "    <tr>\n",
       "      <th>6</th>\n",
       "      <td>@sprintcare is the worst customer service</td>\n",
       "      <td>@sprintcare is the worst customer service</td>\n",
       "    </tr>\n",
       "    <tr>\n",
       "      <th>7</th>\n",
       "      <td>@115713 This is saddening to hear. Please shoo...</td>\n",
       "      <td>@115713 this is saddening to hear. please shoo...</td>\n",
       "    </tr>\n",
       "    <tr>\n",
       "      <th>8</th>\n",
       "      <td>@sprintcare You gonna magically change your co...</td>\n",
       "      <td>@sprintcare you gonna magically change your co...</td>\n",
       "    </tr>\n",
       "    <tr>\n",
       "      <th>9</th>\n",
       "      <td>@115713 We understand your concerns and we'd l...</td>\n",
       "      <td>@115713 we understand your concerns and we'd l...</td>\n",
       "    </tr>\n",
       "  </tbody>\n",
       "</table>\n",
       "</div>"
      ],
      "text/plain": [
       "                                                text  \\\n",
       "0  @115712 I understand. I would like to assist y...   \n",
       "1      @sprintcare and how do you propose we do that   \n",
       "2  @sprintcare I have sent several private messag...   \n",
       "3  @115712 Please send us a Private Message so th...   \n",
       "4                                 @sprintcare I did.   \n",
       "5  @115712 Can you please send us a private messa...   \n",
       "6          @sprintcare is the worst customer service   \n",
       "7  @115713 This is saddening to hear. Please shoo...   \n",
       "8  @sprintcare You gonna magically change your co...   \n",
       "9  @115713 We understand your concerns and we'd l...   \n",
       "\n",
       "                                          text_lower  \n",
       "0  @115712 i understand. i would like to assist y...  \n",
       "1      @sprintcare and how do you propose we do that  \n",
       "2  @sprintcare i have sent several private messag...  \n",
       "3  @115712 please send us a private message so th...  \n",
       "4                                 @sprintcare i did.  \n",
       "5  @115712 can you please send us a private messa...  \n",
       "6          @sprintcare is the worst customer service  \n",
       "7  @115713 this is saddening to hear. please shoo...  \n",
       "8  @sprintcare you gonna magically change your co...  \n",
       "9  @115713 we understand your concerns and we'd l...  "
      ]
     },
     "execution_count": 19,
     "metadata": {},
     "output_type": "execute_result"
    }
   ],
   "source": [
    "# Text lowercase \n",
    "df['text_lower'] = df.loc[:,'text'].str.lower()\n",
    "df.head(10)"
   ]
  },
  {
   "cell_type": "code",
   "execution_count": 20,
   "id": "7d07d1d0-5d7c-4f60-8f22-435fa4746b0a",
   "metadata": {},
   "outputs": [
    {
     "name": "stdout",
     "output_type": "stream",
     "text": [
      "!\"#$%&'()*+,-./:;<=>?@[\\]^_`{|}~\n"
     ]
    },
    {
     "data": {
      "text/html": [
       "<div>\n",
       "<style scoped>\n",
       "    .dataframe tbody tr th:only-of-type {\n",
       "        vertical-align: middle;\n",
       "    }\n",
       "\n",
       "    .dataframe tbody tr th {\n",
       "        vertical-align: top;\n",
       "    }\n",
       "\n",
       "    .dataframe thead th {\n",
       "        text-align: right;\n",
       "    }\n",
       "</style>\n",
       "<table border=\"1\" class=\"dataframe\">\n",
       "  <thead>\n",
       "    <tr style=\"text-align: right;\">\n",
       "      <th></th>\n",
       "      <th>text</th>\n",
       "      <th>text_lower</th>\n",
       "      <th>text_wo_punct</th>\n",
       "    </tr>\n",
       "  </thead>\n",
       "  <tbody>\n",
       "    <tr>\n",
       "      <th>0</th>\n",
       "      <td>@115712 I understand. I would like to assist y...</td>\n",
       "      <td>@115712 i understand. i would like to assist y...</td>\n",
       "      <td>115712 i understand i would like to assist you...</td>\n",
       "    </tr>\n",
       "    <tr>\n",
       "      <th>1</th>\n",
       "      <td>@sprintcare and how do you propose we do that</td>\n",
       "      <td>@sprintcare and how do you propose we do that</td>\n",
       "      <td>sprintcare and how do you propose we do that</td>\n",
       "    </tr>\n",
       "    <tr>\n",
       "      <th>2</th>\n",
       "      <td>@sprintcare I have sent several private messag...</td>\n",
       "      <td>@sprintcare i have sent several private messag...</td>\n",
       "      <td>sprintcare i have sent several private message...</td>\n",
       "    </tr>\n",
       "    <tr>\n",
       "      <th>3</th>\n",
       "      <td>@115712 Please send us a Private Message so th...</td>\n",
       "      <td>@115712 please send us a private message so th...</td>\n",
       "      <td>115712 please send us a private message so tha...</td>\n",
       "    </tr>\n",
       "    <tr>\n",
       "      <th>4</th>\n",
       "      <td>@sprintcare I did.</td>\n",
       "      <td>@sprintcare i did.</td>\n",
       "      <td>sprintcare i did</td>\n",
       "    </tr>\n",
       "    <tr>\n",
       "      <th>5</th>\n",
       "      <td>@115712 Can you please send us a private messa...</td>\n",
       "      <td>@115712 can you please send us a private messa...</td>\n",
       "      <td>115712 can you please send us a private messag...</td>\n",
       "    </tr>\n",
       "    <tr>\n",
       "      <th>6</th>\n",
       "      <td>@sprintcare is the worst customer service</td>\n",
       "      <td>@sprintcare is the worst customer service</td>\n",
       "      <td>sprintcare is the worst customer service</td>\n",
       "    </tr>\n",
       "    <tr>\n",
       "      <th>7</th>\n",
       "      <td>@115713 This is saddening to hear. Please shoo...</td>\n",
       "      <td>@115713 this is saddening to hear. please shoo...</td>\n",
       "      <td>115713 this is saddening to hear please shoot ...</td>\n",
       "    </tr>\n",
       "    <tr>\n",
       "      <th>8</th>\n",
       "      <td>@sprintcare You gonna magically change your co...</td>\n",
       "      <td>@sprintcare you gonna magically change your co...</td>\n",
       "      <td>sprintcare you gonna magically change your con...</td>\n",
       "    </tr>\n",
       "    <tr>\n",
       "      <th>9</th>\n",
       "      <td>@115713 We understand your concerns and we'd l...</td>\n",
       "      <td>@115713 we understand your concerns and we'd l...</td>\n",
       "      <td>115713 we understand your concerns and wed lik...</td>\n",
       "    </tr>\n",
       "  </tbody>\n",
       "</table>\n",
       "</div>"
      ],
      "text/plain": [
       "                                                text  \\\n",
       "0  @115712 I understand. I would like to assist y...   \n",
       "1      @sprintcare and how do you propose we do that   \n",
       "2  @sprintcare I have sent several private messag...   \n",
       "3  @115712 Please send us a Private Message so th...   \n",
       "4                                 @sprintcare I did.   \n",
       "5  @115712 Can you please send us a private messa...   \n",
       "6          @sprintcare is the worst customer service   \n",
       "7  @115713 This is saddening to hear. Please shoo...   \n",
       "8  @sprintcare You gonna magically change your co...   \n",
       "9  @115713 We understand your concerns and we'd l...   \n",
       "\n",
       "                                          text_lower  \\\n",
       "0  @115712 i understand. i would like to assist y...   \n",
       "1      @sprintcare and how do you propose we do that   \n",
       "2  @sprintcare i have sent several private messag...   \n",
       "3  @115712 please send us a private message so th...   \n",
       "4                                 @sprintcare i did.   \n",
       "5  @115712 can you please send us a private messa...   \n",
       "6          @sprintcare is the worst customer service   \n",
       "7  @115713 this is saddening to hear. please shoo...   \n",
       "8  @sprintcare you gonna magically change your co...   \n",
       "9  @115713 we understand your concerns and we'd l...   \n",
       "\n",
       "                                       text_wo_punct  \n",
       "0  115712 i understand i would like to assist you...  \n",
       "1       sprintcare and how do you propose we do that  \n",
       "2  sprintcare i have sent several private message...  \n",
       "3  115712 please send us a private message so tha...  \n",
       "4                                   sprintcare i did  \n",
       "5  115712 can you please send us a private messag...  \n",
       "6           sprintcare is the worst customer service  \n",
       "7  115713 this is saddening to hear please shoot ...  \n",
       "8  sprintcare you gonna magically change your con...  \n",
       "9  115713 we understand your concerns and wed lik...  "
      ]
     },
     "execution_count": 20,
     "metadata": {},
     "output_type": "execute_result"
    }
   ],
   "source": [
    "# Punctuations remove\n",
    "import string\n",
    "punctuations = string.punctuation\n",
    "print(punctuations)\n",
    "\n",
    "%timeit  \n",
    "def remove_punctuations(text):\n",
    "    return text.translate(str.maketrans('','',punctuations))\n",
    "\n",
    "df['text_wo_punct'] = df['text_lower'].apply(lambda text: remove_punctuations(text))\n",
    "df.head(10)\n"
   ]
  },
  {
   "cell_type": "code",
   "execution_count": 21,
   "id": "bb447031-12e6-4caa-8181-136c20f15706",
   "metadata": {},
   "outputs": [
    {
     "name": "stdout",
     "output_type": "stream",
     "text": [
      "showing info https://raw.githubusercontent.com/nltk/nltk_data/gh-pages/index.xml\n"
     ]
    },
    {
     "data": {
      "text/plain": [
       "True"
      ]
     },
     "execution_count": 21,
     "metadata": {},
     "output_type": "execute_result"
    }
   ],
   "source": [
    "# Removal of Frequent words\n",
    "import nltk\n",
    "import ssl\n",
    "\n",
    "try:\n",
    "    _create_unverified_https_context = ssl._create_unverified_context\n",
    "except AttributeError:\n",
    "    pass\n",
    "else:\n",
    "    ssl._create_default_https_context = _create_unverified_https_context\n",
    "\n",
    "nltk.download()"
   ]
  },
  {
   "cell_type": "code",
   "execution_count": 22,
   "id": "8ec8098a-3cae-440f-8ff4-4ff8e700507f",
   "metadata": {},
   "outputs": [
    {
     "name": "stderr",
     "output_type": "stream",
     "text": [
      "[nltk_data] Downloading package stopwords to\n",
      "[nltk_data]     /Users/kekening/nltk_data...\n",
      "[nltk_data]   Package stopwords is already up-to-date!\n"
     ]
    },
    {
     "data": {
      "text/plain": [
       "True"
      ]
     },
     "execution_count": 22,
     "metadata": {},
     "output_type": "execute_result"
    }
   ],
   "source": [
    "nltk.download('stopwords')\n",
    "# Natural Language Toolkit (NLTK)"
   ]
  },
  {
   "cell_type": "code",
   "execution_count": 23,
   "id": "66b0f10a-cb5c-4fa5-8d9a-4aabe490036b",
   "metadata": {},
   "outputs": [
    {
     "data": {
      "text/plain": [
       "\"i, me, my, myself, we, our, ours, ourselves, you, you're, you've, you'll, you'd, your, yours, yourself, yourselves, he, him, his, himself, she, she's, her, hers, herself, it, it's, its, itself, they, them, their, theirs, themselves, what, which, who, whom, this, that, that'll, these, those, am, is, are, was, were, be, been, being, have, has, had, having, do, does, did, doing, a, an, the, and, but, if, or, because, as, until, while, of, at, by, for, with, about, against, between, into, through, during, before, after, above, below, to, from, up, down, in, out, on, off, over, under, again, further, then, once, here, there, when, where, why, how, all, any, both, each, few, more, most, other, some, such, no, nor, not, only, own, same, so, than, too, very, s, t, can, will, just, don, don't, should, should've, now, d, ll, m, o, re, ve, y, ain, aren, aren't, couldn, couldn't, didn, didn't, doesn, doesn't, hadn, hadn't, hasn, hasn't, haven, haven't, isn, isn't, ma, mightn, mightn't, mustn, mustn't, needn, needn't, shan, shan't, shouldn, shouldn't, wasn, wasn't, weren, weren't, won, won't, wouldn, wouldn't\""
      ]
     },
     "execution_count": 23,
     "metadata": {},
     "output_type": "execute_result"
    }
   ],
   "source": [
    "from nltk.corpus import stopwords\n",
    "', '.join(stopwords.words('english'))"
   ]
  },
  {
   "cell_type": "code",
   "execution_count": 24,
   "id": "87c705b9-b999-4535-97f2-2844857ec78d",
   "metadata": {},
   "outputs": [
    {
     "data": {
      "text/html": [
       "<div>\n",
       "<style scoped>\n",
       "    .dataframe tbody tr th:only-of-type {\n",
       "        vertical-align: middle;\n",
       "    }\n",
       "\n",
       "    .dataframe tbody tr th {\n",
       "        vertical-align: top;\n",
       "    }\n",
       "\n",
       "    .dataframe thead th {\n",
       "        text-align: right;\n",
       "    }\n",
       "</style>\n",
       "<table border=\"1\" class=\"dataframe\">\n",
       "  <thead>\n",
       "    <tr style=\"text-align: right;\">\n",
       "      <th></th>\n",
       "      <th>text</th>\n",
       "      <th>text_lower</th>\n",
       "      <th>text_wo_punct</th>\n",
       "      <th>text_wo_stop</th>\n",
       "    </tr>\n",
       "  </thead>\n",
       "  <tbody>\n",
       "    <tr>\n",
       "      <th>0</th>\n",
       "      <td>@115712 I understand. I would like to assist y...</td>\n",
       "      <td>@115712 i understand. i would like to assist y...</td>\n",
       "      <td>115712 i understand i would like to assist you...</td>\n",
       "      <td>115712 understand would like assist would need...</td>\n",
       "    </tr>\n",
       "    <tr>\n",
       "      <th>1</th>\n",
       "      <td>@sprintcare and how do you propose we do that</td>\n",
       "      <td>@sprintcare and how do you propose we do that</td>\n",
       "      <td>sprintcare and how do you propose we do that</td>\n",
       "      <td>sprintcare propose</td>\n",
       "    </tr>\n",
       "    <tr>\n",
       "      <th>2</th>\n",
       "      <td>@sprintcare I have sent several private messag...</td>\n",
       "      <td>@sprintcare i have sent several private messag...</td>\n",
       "      <td>sprintcare i have sent several private message...</td>\n",
       "      <td>sprintcare sent several private messages one r...</td>\n",
       "    </tr>\n",
       "    <tr>\n",
       "      <th>3</th>\n",
       "      <td>@115712 Please send us a Private Message so th...</td>\n",
       "      <td>@115712 please send us a private message so th...</td>\n",
       "      <td>115712 please send us a private message so tha...</td>\n",
       "      <td>115712 please send us private message assist c...</td>\n",
       "    </tr>\n",
       "    <tr>\n",
       "      <th>4</th>\n",
       "      <td>@sprintcare I did.</td>\n",
       "      <td>@sprintcare i did.</td>\n",
       "      <td>sprintcare i did</td>\n",
       "      <td>sprintcare</td>\n",
       "    </tr>\n",
       "  </tbody>\n",
       "</table>\n",
       "</div>"
      ],
      "text/plain": [
       "                                                text  \\\n",
       "0  @115712 I understand. I would like to assist y...   \n",
       "1      @sprintcare and how do you propose we do that   \n",
       "2  @sprintcare I have sent several private messag...   \n",
       "3  @115712 Please send us a Private Message so th...   \n",
       "4                                 @sprintcare I did.   \n",
       "\n",
       "                                          text_lower  \\\n",
       "0  @115712 i understand. i would like to assist y...   \n",
       "1      @sprintcare and how do you propose we do that   \n",
       "2  @sprintcare i have sent several private messag...   \n",
       "3  @115712 please send us a private message so th...   \n",
       "4                                 @sprintcare i did.   \n",
       "\n",
       "                                       text_wo_punct  \\\n",
       "0  115712 i understand i would like to assist you...   \n",
       "1       sprintcare and how do you propose we do that   \n",
       "2  sprintcare i have sent several private message...   \n",
       "3  115712 please send us a private message so tha...   \n",
       "4                                   sprintcare i did   \n",
       "\n",
       "                                        text_wo_stop  \n",
       "0  115712 understand would like assist would need...  \n",
       "1                                 sprintcare propose  \n",
       "2  sprintcare sent several private messages one r...  \n",
       "3  115712 please send us private message assist c...  \n",
       "4                                         sprintcare  "
      ]
     },
     "execution_count": 24,
     "metadata": {},
     "output_type": "execute_result"
    }
   ],
   "source": [
    "stopwords_set = set(stopwords.words('english'))\n",
    "def remove_stopwords(text):\n",
    "        return ' '.join(words for words in str(text).split() if words not in stopwords_set)\n",
    "    # Tokenize each words in string text, and check for non-stopwords\n",
    "df['text_wo_stop'] = df['text_wo_punct'].apply(lambda text: remove_stopwords(text))\n",
    "df.head()"
   ]
  },
  {
   "cell_type": "code",
   "execution_count": 25,
   "id": "9fd83ff6-3eb3-4d55-af21-cf2df2f25dcd",
   "metadata": {},
   "outputs": [
    {
     "data": {
      "text/plain": [
       "[('us', 451262),\n",
       " ('please', 402709),\n",
       " ('dm', 335374),\n",
       " ('help', 267633),\n",
       " ('hi', 224603),\n",
       " ('thanks', 206452),\n",
       " ('get', 200374),\n",
       " ('sorry', 192246),\n",
       " ('like', 146385),\n",
       " ('know', 145407)]"
      ]
     },
     "execution_count": 25,
     "metadata": {},
     "output_type": "execute_result"
    }
   ],
   "source": [
    "from collections import Counter\n",
    "cnt = Counter()\n",
    "# count occurrence of element\n",
    "\n",
    "for text in df['text_wo_stop'].values:\n",
    "    for word in text.split():\n",
    "        cnt[word] +=1\n",
    "        # for each text in list, count occurrence of  of word\n",
    "\n",
    "cnt.most_common(10)\n"
   ]
  },
  {
   "cell_type": "code",
   "execution_count": 26,
   "id": "92973238-5dcd-4f9e-8c97-b4c3b2ae131a",
   "metadata": {},
   "outputs": [
    {
     "data": {
      "text/html": [
       "<div>\n",
       "<style scoped>\n",
       "    .dataframe tbody tr th:only-of-type {\n",
       "        vertical-align: middle;\n",
       "    }\n",
       "\n",
       "    .dataframe tbody tr th {\n",
       "        vertical-align: top;\n",
       "    }\n",
       "\n",
       "    .dataframe thead th {\n",
       "        text-align: right;\n",
       "    }\n",
       "</style>\n",
       "<table border=\"1\" class=\"dataframe\">\n",
       "  <thead>\n",
       "    <tr style=\"text-align: right;\">\n",
       "      <th></th>\n",
       "      <th>text</th>\n",
       "      <th>text_lower</th>\n",
       "      <th>text_wo_punct</th>\n",
       "      <th>text_wo_stop</th>\n",
       "      <th>text_wo_freq</th>\n",
       "    </tr>\n",
       "  </thead>\n",
       "  <tbody>\n",
       "    <tr>\n",
       "      <th>0</th>\n",
       "      <td>@115712 I understand. I would like to assist y...</td>\n",
       "      <td>@115712 i understand. i would like to assist y...</td>\n",
       "      <td>115712 i understand i would like to assist you...</td>\n",
       "      <td>115712 understand would like assist would need...</td>\n",
       "      <td>115712 understand would assist would need priv...</td>\n",
       "    </tr>\n",
       "    <tr>\n",
       "      <th>1</th>\n",
       "      <td>@sprintcare and how do you propose we do that</td>\n",
       "      <td>@sprintcare and how do you propose we do that</td>\n",
       "      <td>sprintcare and how do you propose we do that</td>\n",
       "      <td>sprintcare propose</td>\n",
       "      <td>sprintcare propose</td>\n",
       "    </tr>\n",
       "    <tr>\n",
       "      <th>2</th>\n",
       "      <td>@sprintcare I have sent several private messag...</td>\n",
       "      <td>@sprintcare i have sent several private messag...</td>\n",
       "      <td>sprintcare i have sent several private message...</td>\n",
       "      <td>sprintcare sent several private messages one r...</td>\n",
       "      <td>sprintcare sent several private messages one r...</td>\n",
       "    </tr>\n",
       "    <tr>\n",
       "      <th>3</th>\n",
       "      <td>@115712 Please send us a Private Message so th...</td>\n",
       "      <td>@115712 please send us a private message so th...</td>\n",
       "      <td>115712 please send us a private message so tha...</td>\n",
       "      <td>115712 please send us private message assist c...</td>\n",
       "      <td>115712 send private message assist click ‘mess...</td>\n",
       "    </tr>\n",
       "    <tr>\n",
       "      <th>4</th>\n",
       "      <td>@sprintcare I did.</td>\n",
       "      <td>@sprintcare i did.</td>\n",
       "      <td>sprintcare i did</td>\n",
       "      <td>sprintcare</td>\n",
       "      <td>sprintcare</td>\n",
       "    </tr>\n",
       "  </tbody>\n",
       "</table>\n",
       "</div>"
      ],
      "text/plain": [
       "                                                text  \\\n",
       "0  @115712 I understand. I would like to assist y...   \n",
       "1      @sprintcare and how do you propose we do that   \n",
       "2  @sprintcare I have sent several private messag...   \n",
       "3  @115712 Please send us a Private Message so th...   \n",
       "4                                 @sprintcare I did.   \n",
       "\n",
       "                                          text_lower  \\\n",
       "0  @115712 i understand. i would like to assist y...   \n",
       "1      @sprintcare and how do you propose we do that   \n",
       "2  @sprintcare i have sent several private messag...   \n",
       "3  @115712 please send us a private message so th...   \n",
       "4                                 @sprintcare i did.   \n",
       "\n",
       "                                       text_wo_punct  \\\n",
       "0  115712 i understand i would like to assist you...   \n",
       "1       sprintcare and how do you propose we do that   \n",
       "2  sprintcare i have sent several private message...   \n",
       "3  115712 please send us a private message so tha...   \n",
       "4                                   sprintcare i did   \n",
       "\n",
       "                                        text_wo_stop  \\\n",
       "0  115712 understand would like assist would need...   \n",
       "1                                 sprintcare propose   \n",
       "2  sprintcare sent several private messages one r...   \n",
       "3  115712 please send us private message assist c...   \n",
       "4                                         sprintcare   \n",
       "\n",
       "                                        text_wo_freq  \n",
       "0  115712 understand would assist would need priv...  \n",
       "1                                 sprintcare propose  \n",
       "2  sprintcare sent several private messages one r...  \n",
       "3  115712 send private message assist click ‘mess...  \n",
       "4                                         sprintcare  "
      ]
     },
     "execution_count": 26,
     "metadata": {},
     "output_type": "execute_result"
    }
   ],
   "source": [
    "freq_words = set([w for (w,wc) in cnt.most_common(10)])\n",
    "# Don't quite understand, something to do with tuple?\n",
    "\n",
    "def remove_freqwords(text):\n",
    "    return ' '.join(word for word in str(text).split() if word not in freq_words)\n",
    "\n",
    "df['text_wo_freq'] = df['text_wo_stop'].apply(lambda text:remove_freqwords(text))\n",
    "df.head()"
   ]
  },
  {
   "cell_type": "code",
   "execution_count": 27,
   "id": "1c2705f6-2a60-4af5-94e4-eceb913550bb",
   "metadata": {},
   "outputs": [
    {
     "name": "stdout",
     "output_type": "stream",
     "text": [
      "{'823868', 'httpstco7uqpwyh1b6', 'httpstcov2tmhetl7q', '823869', '823867', 'httpstco4v1ft0th5x', 'notjustxmasallyearround', 'httpstcogfyuq1kjtk', '823870'}\n"
     ]
    },
    {
     "data": {
      "text/html": [
       "<div>\n",
       "<style scoped>\n",
       "    .dataframe tbody tr th:only-of-type {\n",
       "        vertical-align: middle;\n",
       "    }\n",
       "\n",
       "    .dataframe tbody tr th {\n",
       "        vertical-align: top;\n",
       "    }\n",
       "\n",
       "    .dataframe thead th {\n",
       "        text-align: right;\n",
       "    }\n",
       "</style>\n",
       "<table border=\"1\" class=\"dataframe\">\n",
       "  <thead>\n",
       "    <tr style=\"text-align: right;\">\n",
       "      <th></th>\n",
       "      <th>text</th>\n",
       "      <th>text_lower</th>\n",
       "      <th>text_wo_punct</th>\n",
       "      <th>text_wo_stop</th>\n",
       "      <th>text_wo_freq</th>\n",
       "      <th>text_wo_freqrare</th>\n",
       "    </tr>\n",
       "  </thead>\n",
       "  <tbody>\n",
       "    <tr>\n",
       "      <th>0</th>\n",
       "      <td>@115712 I understand. I would like to assist y...</td>\n",
       "      <td>@115712 i understand. i would like to assist y...</td>\n",
       "      <td>115712 i understand i would like to assist you...</td>\n",
       "      <td>115712 understand would like assist would need...</td>\n",
       "      <td>115712 understand would assist would need priv...</td>\n",
       "      <td>115712 understand would assist would need priv...</td>\n",
       "    </tr>\n",
       "    <tr>\n",
       "      <th>1</th>\n",
       "      <td>@sprintcare and how do you propose we do that</td>\n",
       "      <td>@sprintcare and how do you propose we do that</td>\n",
       "      <td>sprintcare and how do you propose we do that</td>\n",
       "      <td>sprintcare propose</td>\n",
       "      <td>sprintcare propose</td>\n",
       "      <td>sprintcare propose</td>\n",
       "    </tr>\n",
       "    <tr>\n",
       "      <th>2</th>\n",
       "      <td>@sprintcare I have sent several private messag...</td>\n",
       "      <td>@sprintcare i have sent several private messag...</td>\n",
       "      <td>sprintcare i have sent several private message...</td>\n",
       "      <td>sprintcare sent several private messages one r...</td>\n",
       "      <td>sprintcare sent several private messages one r...</td>\n",
       "      <td>sprintcare sent several private messages one r...</td>\n",
       "    </tr>\n",
       "    <tr>\n",
       "      <th>3</th>\n",
       "      <td>@115712 Please send us a Private Message so th...</td>\n",
       "      <td>@115712 please send us a private message so th...</td>\n",
       "      <td>115712 please send us a private message so tha...</td>\n",
       "      <td>115712 please send us private message assist c...</td>\n",
       "      <td>115712 send private message assist click ‘mess...</td>\n",
       "      <td>115712 send private message assist click ‘mess...</td>\n",
       "    </tr>\n",
       "    <tr>\n",
       "      <th>4</th>\n",
       "      <td>@sprintcare I did.</td>\n",
       "      <td>@sprintcare i did.</td>\n",
       "      <td>sprintcare i did</td>\n",
       "      <td>sprintcare</td>\n",
       "      <td>sprintcare</td>\n",
       "      <td>sprintcare</td>\n",
       "    </tr>\n",
       "  </tbody>\n",
       "</table>\n",
       "</div>"
      ],
      "text/plain": [
       "                                                text  \\\n",
       "0  @115712 I understand. I would like to assist y...   \n",
       "1      @sprintcare and how do you propose we do that   \n",
       "2  @sprintcare I have sent several private messag...   \n",
       "3  @115712 Please send us a Private Message so th...   \n",
       "4                                 @sprintcare I did.   \n",
       "\n",
       "                                          text_lower  \\\n",
       "0  @115712 i understand. i would like to assist y...   \n",
       "1      @sprintcare and how do you propose we do that   \n",
       "2  @sprintcare i have sent several private messag...   \n",
       "3  @115712 please send us a private message so th...   \n",
       "4                                 @sprintcare i did.   \n",
       "\n",
       "                                       text_wo_punct  \\\n",
       "0  115712 i understand i would like to assist you...   \n",
       "1       sprintcare and how do you propose we do that   \n",
       "2  sprintcare i have sent several private message...   \n",
       "3  115712 please send us a private message so tha...   \n",
       "4                                   sprintcare i did   \n",
       "\n",
       "                                        text_wo_stop  \\\n",
       "0  115712 understand would like assist would need...   \n",
       "1                                 sprintcare propose   \n",
       "2  sprintcare sent several private messages one r...   \n",
       "3  115712 please send us private message assist c...   \n",
       "4                                         sprintcare   \n",
       "\n",
       "                                        text_wo_freq  \\\n",
       "0  115712 understand would assist would need priv...   \n",
       "1                                 sprintcare propose   \n",
       "2  sprintcare sent several private messages one r...   \n",
       "3  115712 send private message assist click ‘mess...   \n",
       "4                                         sprintcare   \n",
       "\n",
       "                                    text_wo_freqrare  \n",
       "0  115712 understand would assist would need priv...  \n",
       "1                                 sprintcare propose  \n",
       "2  sprintcare sent several private messages one r...  \n",
       "3  115712 send private message assist click ‘mess...  \n",
       "4                                         sprintcare  "
      ]
     },
     "execution_count": 27,
     "metadata": {},
     "output_type": "execute_result"
    }
   ],
   "source": [
    "# Removal of Rare words\n",
    "n_rare_words = 10\n",
    "rare_words = set([w for (w,c) in cnt.most_common()][:- n_rare_words: -1])\n",
    "print(rare_words)\n",
    "\n",
    "def remove_rarewords(text):\n",
    "    return ' '.join(word for word in str(text).split() if word not in rare_words)\n",
    "\n",
    "df['text_wo_freqrare'] = df['text_wo_freq'].apply(lambda text:remove_rarewords(text))\n",
    "df.head()"
   ]
  },
  {
   "cell_type": "code",
   "execution_count": 28,
   "id": "cb44fc7b-c306-4cd3-aab5-d65620138221",
   "metadata": {},
   "outputs": [
    {
     "data": {
      "text/html": [
       "<div>\n",
       "<style scoped>\n",
       "    .dataframe tbody tr th:only-of-type {\n",
       "        vertical-align: middle;\n",
       "    }\n",
       "\n",
       "    .dataframe tbody tr th {\n",
       "        vertical-align: top;\n",
       "    }\n",
       "\n",
       "    .dataframe thead th {\n",
       "        text-align: right;\n",
       "    }\n",
       "</style>\n",
       "<table border=\"1\" class=\"dataframe\">\n",
       "  <thead>\n",
       "    <tr style=\"text-align: right;\">\n",
       "      <th></th>\n",
       "      <th>text</th>\n",
       "      <th>text_lower</th>\n",
       "      <th>text_wo_punct</th>\n",
       "      <th>text_wo_stop</th>\n",
       "      <th>text_wo_freq</th>\n",
       "      <th>text_wo_freqrare</th>\n",
       "      <th>text_wo_numbers</th>\n",
       "    </tr>\n",
       "  </thead>\n",
       "  <tbody>\n",
       "    <tr>\n",
       "      <th>0</th>\n",
       "      <td>@115712 I understand. I would like to assist y...</td>\n",
       "      <td>@115712 i understand. i would like to assist y...</td>\n",
       "      <td>115712 i understand i would like to assist you...</td>\n",
       "      <td>115712 understand would like assist would need...</td>\n",
       "      <td>115712 understand would assist would need priv...</td>\n",
       "      <td>115712 understand would assist would need priv...</td>\n",
       "      <td>understand would assist would need private sec...</td>\n",
       "    </tr>\n",
       "    <tr>\n",
       "      <th>1</th>\n",
       "      <td>@sprintcare and how do you propose we do that</td>\n",
       "      <td>@sprintcare and how do you propose we do that</td>\n",
       "      <td>sprintcare and how do you propose we do that</td>\n",
       "      <td>sprintcare propose</td>\n",
       "      <td>sprintcare propose</td>\n",
       "      <td>sprintcare propose</td>\n",
       "      <td>sprintcare propose</td>\n",
       "    </tr>\n",
       "    <tr>\n",
       "      <th>2</th>\n",
       "      <td>@sprintcare I have sent several private messag...</td>\n",
       "      <td>@sprintcare i have sent several private messag...</td>\n",
       "      <td>sprintcare i have sent several private message...</td>\n",
       "      <td>sprintcare sent several private messages one r...</td>\n",
       "      <td>sprintcare sent several private messages one r...</td>\n",
       "      <td>sprintcare sent several private messages one r...</td>\n",
       "      <td>sprintcare sent several private messages one r...</td>\n",
       "    </tr>\n",
       "    <tr>\n",
       "      <th>3</th>\n",
       "      <td>@115712 Please send us a Private Message so th...</td>\n",
       "      <td>@115712 please send us a private message so th...</td>\n",
       "      <td>115712 please send us a private message so tha...</td>\n",
       "      <td>115712 please send us private message assist c...</td>\n",
       "      <td>115712 send private message assist click ‘mess...</td>\n",
       "      <td>115712 send private message assist click ‘mess...</td>\n",
       "      <td>send private message assist click ‘message’ to...</td>\n",
       "    </tr>\n",
       "    <tr>\n",
       "      <th>4</th>\n",
       "      <td>@sprintcare I did.</td>\n",
       "      <td>@sprintcare i did.</td>\n",
       "      <td>sprintcare i did</td>\n",
       "      <td>sprintcare</td>\n",
       "      <td>sprintcare</td>\n",
       "      <td>sprintcare</td>\n",
       "      <td>sprintcare</td>\n",
       "    </tr>\n",
       "  </tbody>\n",
       "</table>\n",
       "</div>"
      ],
      "text/plain": [
       "                                                text  \\\n",
       "0  @115712 I understand. I would like to assist y...   \n",
       "1      @sprintcare and how do you propose we do that   \n",
       "2  @sprintcare I have sent several private messag...   \n",
       "3  @115712 Please send us a Private Message so th...   \n",
       "4                                 @sprintcare I did.   \n",
       "\n",
       "                                          text_lower  \\\n",
       "0  @115712 i understand. i would like to assist y...   \n",
       "1      @sprintcare and how do you propose we do that   \n",
       "2  @sprintcare i have sent several private messag...   \n",
       "3  @115712 please send us a private message so th...   \n",
       "4                                 @sprintcare i did.   \n",
       "\n",
       "                                       text_wo_punct  \\\n",
       "0  115712 i understand i would like to assist you...   \n",
       "1       sprintcare and how do you propose we do that   \n",
       "2  sprintcare i have sent several private message...   \n",
       "3  115712 please send us a private message so tha...   \n",
       "4                                   sprintcare i did   \n",
       "\n",
       "                                        text_wo_stop  \\\n",
       "0  115712 understand would like assist would need...   \n",
       "1                                 sprintcare propose   \n",
       "2  sprintcare sent several private messages one r...   \n",
       "3  115712 please send us private message assist c...   \n",
       "4                                         sprintcare   \n",
       "\n",
       "                                        text_wo_freq  \\\n",
       "0  115712 understand would assist would need priv...   \n",
       "1                                 sprintcare propose   \n",
       "2  sprintcare sent several private messages one r...   \n",
       "3  115712 send private message assist click ‘mess...   \n",
       "4                                         sprintcare   \n",
       "\n",
       "                                    text_wo_freqrare  \\\n",
       "0  115712 understand would assist would need priv...   \n",
       "1                                 sprintcare propose   \n",
       "2  sprintcare sent several private messages one r...   \n",
       "3  115712 send private message assist click ‘mess...   \n",
       "4                                         sprintcare   \n",
       "\n",
       "                                     text_wo_numbers  \n",
       "0  understand would assist would need private sec...  \n",
       "1                                 sprintcare propose  \n",
       "2  sprintcare sent several private messages one r...  \n",
       "3  send private message assist click ‘message’ to...  \n",
       "4                                         sprintcare  "
      ]
     },
     "execution_count": 28,
     "metadata": {},
     "output_type": "execute_result"
    }
   ],
   "source": [
    "# Ignore numbers\n",
    "def ignore_numbers(text):\n",
    "    words = []\n",
    "    for word in text.split():\n",
    "        if not any(char.isdigit() for char in word):\n",
    "            words.append(word)\n",
    "    return ' '.join(words)\n",
    "\n",
    "df['text_wo_numbers'] = df['text_wo_freqrare'].apply(ignore_numbers)\n",
    "df.head()\n",
    " "
   ]
  },
  {
   "cell_type": "markdown",
   "id": "45bb5326-a6b0-40a4-ae58-9dd49e320cf0",
   "metadata": {},
   "source": [
    "<span style=\"font-family: Arial; font-size: 25px;font-weight: bold;\"> Week 5: Data Analysis </span>"
   ]
  },
  {
   "cell_type": "markdown",
   "id": "1372b44d-9c74-4465-a6b0-cb05ff972187",
   "metadata": {},
   "source": [
    "Main goal: To improve customer service and user experience, assit business decision making by analyses Twitter Customer Support dataset. \n",
    "\n",
    "EDA result: We found some intresting trend by exploring a little more into the dataset. And I decide to focus those two findings: \n",
    "- \"There are about 2.8 millions of tweets within the year of 2017, and the top 20 users are customer service from big industry companies.\"\n",
    "- \"There's a significant increase in the number of customer support tweets received from October to December 2017.\"\n",
    "\n",
    "As we explored the data further, we made some interesting discoveries. In 2017, there were roughly 2.8 million tweets recorded. Notably, among the top 20 contributors to this tweet volume were customer service accounts associated with major industry players such as Apple and Amazon. Additionally, we observed a significant uptick in customer support-related tweets during the final quarter of 2017, particularly from October to December.\n",
    "\n",
    "Prediction/Suspection why the EDA results appear to like that: \n",
    "1) The reason why Amazon has more tweets than Apple could be because Amazon sells a lot of different things online, while Apple is also popular because of its well-known brand and good customer service.\n",
    "2) The large volume of tweets was caused by the 2017 Donald Trump Twitter Activity on political topics and controverst topics.\n",
    "\n",
    "Since our goal is to improve customer service, we will pick the trend of Apple and Amazon with most customer support tweets in order to define what is a good customer service and why does Amazon gets more tweets compare to Apple? \n",
    "\n",
    "Domain Question: Is there a correlations between tweet volume and factors such as product variety, online presence, and customer service quality for Apple and Amazon? \n",
    "\n",
    "- Product Variety: Utilize keywords related to Amazon and Apple products to compare tweet volumes, assessing which company generates more discussion about its offerings.\n",
    "- Online presence: Analyze the \"inbound\" column to gauge engagement with the company's official account, providing insights into its online presence and interaction with users.\n",
    "- Customer service quality: Identify instances of customer gratitude or expressions of thanks within tweets to infer satisfaction levels and indirectly measure the quality of customer service provided by the companies."
   ]
  },
  {
   "cell_type": "markdown",
   "id": "82a77633-4aa3-4165-a09c-78625fd6cec0",
   "metadata": {},
   "source": [
    "<span style=\"font-family: Arial; font-weight: bold;\"> Product Variety Analysis </span>"
   ]
  },
  {
   "cell_type": "code",
   "execution_count": 29,
   "id": "db66648b-1f62-4f9b-900d-40c243fe0467",
   "metadata": {},
   "outputs": [
    {
     "name": "stdout",
     "output_type": "stream",
     "text": [
      "Amazon Tweet Count: 15715\n",
      "Apple Tweet Count: 68152\n"
     ]
    },
    {
     "data": {
      "image/png": "[encoded data removed]",
      "text/plain": [
       "<Figure size 640x480 with 1 Axes>"
      ]
     },
     "metadata": {},
     "output_type": "display_data"
    }
   ],
   "source": [
    "amazon_keywords = ['Sales','Echo', 'Kindle', 'Fire Tablet', 'Fire TV', 'Amazon Basics', 'Amazon Prime', 'Amazon Fresh', 'Amazon Music', 'Amazon Video']\n",
    "apple_keywords = ['Sales','iPhone', 'iPad', 'MacBook', 'Apple Watch', 'AirPods', 'iMac', 'Mac Mini', 'Apple TV', 'HomePod']\n",
    "\n",
    "# customer_service_keywords = ['customer service', 'support', 'help', 'assistance', 'refund', 'return', 'exchange', 'complaint', 'issue', 'problem-solving']\n",
    "\n",
    "amazon_tweets = df[df['text_wo_numbers'].str.contains('|'.join(amazon_keywords), case=False)]\n",
    "apple_tweets = df[df['text_wo_numbers'].str.contains('|'.join(apple_keywords), case=False)]\n",
    "\n",
    "amazon_tweet_count = len(amazon_tweets)\n",
    "apple_tweet_count = len(apple_tweets)\n",
    "\n",
    "print(\"Amazon Tweet Count:\", amazon_tweet_count)\n",
    "print(\"Apple Tweet Count:\", apple_tweet_count)\n",
    "\n",
    "plt.bar(['Amazon', 'Apple'], [amazon_tweet_count, apple_tweet_count])\n",
    "plt.xlabel('Company')\n",
    "plt.ylabel('Tweet Count')\n",
    "plt.title('Tweet Counts for Amazon and Apple Products')\n",
    "plt.show()\n"
   ]
  },
  {
   "cell_type": "markdown",
   "id": "e8abeda0-4d59-41bc-963a-6d8694f3c9e4",
   "metadata": {},
   "source": [
    "<div style=\"background-color: #e6ffe6; padding: 10px;\">\n",
    "Amazon Tweet Count: 10655\n",
    "Apple Tweet Count: 63230\n",
    "By searching keywords for both Apple products and Amazon products we found out that Apple actually have more tweet volumes for Product Variety compare to Amazon.\n",
    "\n",
    "</div>"
   ]
  },
  {
   "cell_type": "markdown",
   "id": "adaafa9f-9271-4551-a84a-066c2dd1386a",
   "metadata": {},
   "source": [
    "<span style=\"font-family: Arial; font-weight: bold;\"> Online Presence Analysis </span>"
   ]
  },
  {
   "cell_type": "code",
   "execution_count": 30,
   "id": "637b0eab-1771-4d49-8d04-ba40b5b52b1c",
   "metadata": {},
   "outputs": [
    {
     "name": "stdout",
     "output_type": "stream",
     "text": [
      "AmazonHelp Mean Response Time: 00:34:08.223249027\n",
      "Apple Support Mean Response Time: 12:49:12.968750\n"
     ]
    },
    {
     "name": "stderr",
     "output_type": "stream",
     "text": [
      "/var/folders/z4/nqbbpnv52gddff6vt_dtcgvm0000gn/T/ipykernel_2376/277973307.py:8: SettingWithCopyWarning: \n",
      "A value is trying to be set on a copy of a slice from a DataFrame.\n",
      "Try using .loc[row_indexer,col_indexer] = value instead\n",
      "\n",
      "See the caveats in the documentation: https://pandas.pydata.org/pandas-docs/stable/user_guide/indexing.html#returning-a-view-versus-a-copy\n",
      "  amazon_tweets['created_at'] = pd.to_datetime(amazon_tweets['created_at'])\n",
      "/var/folders/z4/nqbbpnv52gddff6vt_dtcgvm0000gn/T/ipykernel_2376/277973307.py:9: SettingWithCopyWarning: \n",
      "A value is trying to be set on a copy of a slice from a DataFrame.\n",
      "Try using .loc[row_indexer,col_indexer] = value instead\n",
      "\n",
      "See the caveats in the documentation: https://pandas.pydata.org/pandas-docs/stable/user_guide/indexing.html#returning-a-view-versus-a-copy\n",
      "  amazon_tweets['in_response_to_tweet_id'] = pd.to_numeric(amazon_tweets['in_response_to_tweet_id'], errors='coerce')\n",
      "/var/folders/z4/nqbbpnv52gddff6vt_dtcgvm0000gn/T/ipykernel_2376/277973307.py:13: SettingWithCopyWarning: \n",
      "A value is trying to be set on a copy of a slice from a DataFrame.\n",
      "Try using .loc[row_indexer,col_indexer] = value instead\n",
      "\n",
      "See the caveats in the documentation: https://pandas.pydata.org/pandas-docs/stable/user_guide/indexing.html#returning-a-view-versus-a-copy\n",
      "  apple_tweets['created_at'] = pd.to_datetime(apple_tweets['created_at'])\n",
      "/var/folders/z4/nqbbpnv52gddff6vt_dtcgvm0000gn/T/ipykernel_2376/277973307.py:14: SettingWithCopyWarning: \n",
      "A value is trying to be set on a copy of a slice from a DataFrame.\n",
      "Try using .loc[row_indexer,col_indexer] = value instead\n",
      "\n",
      "See the caveats in the documentation: https://pandas.pydata.org/pandas-docs/stable/user_guide/indexing.html#returning-a-view-versus-a-copy\n",
      "  apple_tweets['in_response_to_tweet_id'] = pd.to_numeric(apple_tweets['in_response_to_tweet_id'], errors='coerce')\n"
     ]
    }
   ],
   "source": [
    "amazon_tweets = df_no_outliers[(df_no_outliers['author_id'] == 'AmazonHelp') & (df_no_outliers['inbound'] == False)]\n",
    "apple_tweets = df_no_outliers[(df_no_outliers['author_id'] == 'AppleSupport') & (df_no_outliers['inbound'] == False)]\n",
    "\n",
    "# Convert 'created_at' column to datetime\n",
    "df_no_outliers['created_at'] = pd.to_datetime(df_no_outliers['created_at'])\n",
    "\n",
    "# Calculate response time for AmazonHelp\n",
    "amazon_tweets['created_at'] = pd.to_datetime(amazon_tweets['created_at'])\n",
    "amazon_tweets['in_response_to_tweet_id'] = pd.to_numeric(amazon_tweets['in_response_to_tweet_id'], errors='coerce')\n",
    "amazon_tweets = amazon_tweets.sort_values(by=['created_at'])\n",
    "amazon_tweets['response_time'] = amazon_tweets.groupby('in_response_to_tweet_id')['created_at'].diff()\n",
    "\n",
    "apple_tweets['created_at'] = pd.to_datetime(apple_tweets['created_at'])\n",
    "apple_tweets['in_response_to_tweet_id'] = pd.to_numeric(apple_tweets['in_response_to_tweet_id'], errors='coerce')\n",
    "apple_tweets = apple_tweets.sort_values(by=['created_at'])\n",
    "apple_tweets['response_time'] = apple_tweets.groupby('in_response_to_tweet_id')['created_at'].diff()\n",
    "\n",
    "# Aggregate response times (e.g., mean)\n",
    "amazon_mean_response_time = amazon_tweets['response_time'].mean()\n",
    "apple_mean_response_time = apple_tweets['response_time'].mean()\n",
    "\n",
    "# Convert mean response times to more readable format\n",
    "amazon_mean_response_time_readable = str(amazon_mean_response_time).split()[-1]\n",
    "apple_mean_response_time_readable = str(apple_mean_response_time).split()[-1]\n",
    "\n",
    "print(\"AmazonHelp Mean Response Time:\", amazon_mean_response_time_readable)\n",
    "print(\"Apple Support Mean Response Time:\", apple_mean_response_time_readable)\n",
    "# ch has an average of 12 hours 49 minutes, AmazonHelp is faster."
   ]
  },
  {
   "cell_type": "markdown",
   "id": "13e6b5b2-ccd9-4130-b35e-051aa8d7344f",
   "metadata": {},
   "source": [
    "<div style=\"background-color: #e6ffe6; padding: 10px;\">\n",
    "By analyse average respond time for both Amazon and Apple, we found out that Amazon takes about on average 34 minutes to response, wherelse Apple takes on average 12 hours to response on Twitter.\n",
    "</div>"
   ]
  },
  {
   "cell_type": "code",
   "execution_count": 31,
   "id": "6b310fb2-a4f0-4d01-aa6a-9cbe3aa33f56",
   "metadata": {},
   "outputs": [
    {
     "name": "stdout",
     "output_type": "stream",
     "text": [
      "Amazon Inbound Tweet Count: 169576\n",
      "Apple Inbound Tweet Count: 106804\n"
     ]
    },
    {
     "data": {
      "image/png": "[encoded data removed]",
      "text/plain": [
       "<Figure size 640x480 with 1 Axes>"
      ]
     },
     "metadata": {},
     "output_type": "display_data"
    }
   ],
   "source": [
    "# Filter inbound tweets directed towards AmazonHelp and AppleSupport\n",
    "amazon_inbound_tweets = apple_inbound_tweets = df_no_outliers[df_no_outliers['author_id'] == 'AmazonHelp']\n",
    "apple_inbound_tweets = df_no_outliers[df_no_outliers['author_id'] == 'AppleSupport']\n",
    "\n",
    "# Count the number of inbound tweets for Amazon and Apple\n",
    "amazon_inbound_tweet_count = len(amazon_inbound_tweets)\n",
    "apple_inbound_tweet_count = len(apple_inbound_tweets)\n",
    "\n",
    "print(\"Amazon Inbound Tweet Count:\", amazon_inbound_tweet_count)\n",
    "print(\"Apple Inbound Tweet Count:\", apple_inbound_tweet_count)\n",
    "\n",
    "companies = ['Amazon', 'Apple']\n",
    "counts = [amazon_inbound_tweet_count, apple_inbound_tweet_count]\n",
    "\n",
    "plt.bar(companies, counts, color=['blue', 'green'])\n",
    "plt.xlabel('Company')\n",
    "plt.ylabel('Inbound Tweet Count')\n",
    "plt.title('Inbound Tweets Directed Towards AmazonHelp and AppleSupport')\n",
    "plt.show()"
   ]
  },
  {
   "cell_type": "markdown",
   "id": "f77fff2a-a533-49c5-aeb7-67c730859495",
   "metadata": {},
   "source": [
    "<div style=\"background-color: #e6ffe6; padding: 10px;\">\n",
    "Amazon Inbound Tweet Count: 169576\n",
    "Apple Inbound Tweet Count: 106804\n",
    "There are also more inbound tweets from Amazon than Apple. \n",
    "</div>"
   ]
  },
  {
   "cell_type": "markdown",
   "id": "3fe4b998-9e48-4afd-a73a-f1957844e9eb",
   "metadata": {},
   "source": [
    "<span style=\"font-family: Arial; font-weight: bold;\"> Customer Service Quality Analysis </span>"
   ]
  },
  {
   "cell_type": "code",
   "execution_count": 32,
   "id": "ce6ea517-43c1-4257-9e56-0491b4fd1c42",
   "metadata": {},
   "outputs": [
    {
     "name": "stdout",
     "output_type": "stream",
     "text": [
      "Amazon Satisfied Tweets Count: 4762\n",
      "Amazon Dissatisfied Tweets Count: 3104\n",
      "Apple Satisfied Tweets Count: 2954\n",
      "Apple Dissatisfied Tweets Count: 1981\n"
     ]
    }
   ],
   "source": [
    "# Define keywords indicating satisfaction or dissatisfaction\n",
    "satisfaction_keywords = ['happy', 'satisfied', 'great', 'awesome', 'excellent', 'good']\n",
    "dissatisfaction_keywords = ['unhappy', 'unsatisfied', 'bad', 'terrible', 'poor', 'awful']\n",
    "\n",
    "# Filter tweets mentioning Amazon and containing satisfaction keywords\n",
    "amazon_satisfied_tweets = df[(df['text_wo_numbers'].str.contains('Amazon', case=False)) & \n",
    "                              (df['text_wo_numbers'].str.contains('|'.join(satisfaction_keywords), case=False))]\n",
    "\n",
    "# Filter tweets mentioning Amazon and containing dissatisfaction keywords\n",
    "amazon_dissatisfied_tweets = df[(df['text_wo_numbers'].str.contains('Amazon', case=False)) & \n",
    "                                (df['text_wo_numbers'].str.contains('|'.join(dissatisfaction_keywords), case=False))]\n",
    "\n",
    "# Filter tweets mentioning Apple and containing satisfaction keywords\n",
    "apple_satisfied_tweets = df[(df['text_wo_numbers'].str.contains('Apple', case=False)) & \n",
    "                            (df['text_wo_numbers'].str.contains('|'.join(satisfaction_keywords), case=False))]\n",
    "\n",
    "# Filter tweets mentioning Apple and containing dissatisfaction keywords\n",
    "apple_dissatisfied_tweets = df[(df['text_wo_numbers'].str.contains('Apple', case=False)) & \n",
    "                                (df['text_wo_numbers'].str.contains('|'.join(dissatisfaction_keywords), case=False))]\n",
    "\n",
    "# Count the number of tweets containing satisfaction and dissatisfaction keywords for Amazon and Apple\n",
    "amazon_satisfied_count = len(amazon_satisfied_tweets)\n",
    "amazon_dissatisfied_count = len(amazon_dissatisfied_tweets)\n",
    "apple_satisfied_count = len(apple_satisfied_tweets)\n",
    "apple_dissatisfied_count = len(apple_dissatisfied_tweets)\n",
    "\n",
    "print(\"Amazon Satisfied Tweets Count:\", amazon_satisfied_count)\n",
    "print(\"Amazon Dissatisfied Tweets Count:\", amazon_dissatisfied_count)\n",
    "print(\"Apple Satisfied Tweets Count:\", apple_satisfied_count)\n",
    "print(\"Apple Dissatisfied Tweets Count:\", apple_dissatisfied_count)\n"
   ]
  },
  {
   "cell_type": "code",
   "execution_count": 33,
   "id": "b743cea0-2e98-40dc-a602-d7b6bf61ba21",
   "metadata": {},
   "outputs": [
    {
     "data": {
      "image/png": "[encoded data removed]",
      "text/plain": [
       "<Figure size 1000x600 with 1 Axes>"
      ]
     },
     "metadata": {},
     "output_type": "display_data"
    }
   ],
   "source": [
    "# Define data\n",
    "companies = ['Amazon', 'Apple']\n",
    "satisfied_counts = [amazon_satisfied_count, apple_satisfied_count]\n",
    "dissatisfied_counts = [amazon_dissatisfied_count, apple_dissatisfied_count]\n",
    "\n",
    "# Plotting the results\n",
    "plt.figure(figsize=(10, 6))\n",
    "plt.bar(companies, satisfied_counts, color='lightgreen', label='Satisfied')\n",
    "plt.bar(companies, dissatisfied_counts, bottom=satisfied_counts, color='lightcoral', label='Dissatisfied')\n",
    "plt.xlabel('Company')\n",
    "plt.ylabel('Number of Tweets')\n",
    "plt.title('Number of Satisfied and Dissatisfied Tweets for Amazon and Apple')\n",
    "plt.legend()\n",
    "\n",
    "# Add satisfaction and dissatisfaction rates as text on the bars\n",
    "for i, company in enumerate(companies):\n",
    "    total_tweets = amazon_inbound_tweet_count if company == 'Amazon' else apple_inbound_tweet_count\n",
    "    satisfied_rate = satisfied_counts[i] / total_tweets\n",
    "    dissatisfied_rate = dissatisfied_counts[i] / total_tweets\n",
    "    plt.text(i, satisfied_counts[i] + 10, f'Satisfied Rate: {satisfied_rate:.2f}', ha='center')\n",
    "    plt.text(i, satisfied_counts[i] + dissatisfied_counts[i] + 10, f'Dissatisfied Rate: {dissatisfied_rate:.2f}', ha='center')\n",
    "\n",
    "plt.show()\n"
   ]
  },
  {
   "cell_type": "markdown",
   "id": "028fd0b1-2007-411c-b617-8b8499b078b0",
   "metadata": {},
   "source": [
    "<div style=\"background-color: #e6ffe6; padding: 10px;\">\n",
    "Overall, Amazon has both more Satisfied and Dissatisfied Tweets, but surprising there rate of customer service is the same. \n",
    "</div>"
   ]
  },
  {
   "cell_type": "markdown",
   "id": "5e3541be-f434-4618-86a6-51bb81bd4414",
   "metadata": {},
   "source": [
    "<span style=\"font-family: Arial; font-size: 25px; font-weight: bold;\"> Conclusion</span>"
   ]
  },
  {
   "cell_type": "markdown",
   "id": "90050bcd-a06d-44d1-9fd8-38a1c417505f",
   "metadata": {},
   "source": [
    "Domain Question: Is there a correlations between tweet volume and factors such as product variety, online presence, and customer service quality for Apple and Amazon? \n",
    "\n",
    "Prediction: Yes, Amazon has overall more product variety, online presence, and customer service quality than Apple\n",
    "\n",
    "Acutal Result: Depends on some factors. In turns of product variety, Apple actually gets more tweets compare to Amazon, but it's true that Amazon has more online presence compare to Apple. With Customer Service Quality, both company has the same rating but Amazon has gets twice as much tweets compare to Apple.  "
   ]
  },
  {
   "cell_type": "markdown",
   "id": "0c40c96f-3103-445f-8e2f-02d872d63470",
   "metadata": {},
   "source": [
    "<span style=\"font-family: Arial; font-weight: bold\"> Challenge: </span>\n",
    "\n",
    "The result may no longer represent the today's world that we live in, time been one of the issue, the other issue has to do with the platform, twitter. At the last 3 months of 2017, twitter suspended about 58 millions user accounts, so we aren't too sure about the trustworthyness about the feedback from customers. And customer qualities analyzed on twitter may not truely represent their real quality since both Amazon and Apple have their on customer service support on their website. \n",
    "\n",
    "However, we can still take away something from this data analysis and that is companies with a strong online presence tend to have more engagement and visibility on social media. This underscores the importance of maintaining active and responsive social media profiles for businesses to interact with their customers effectively."
   ]
  }
 ],
 "metadata": {
  "kernelspec": {
   "display_name": "Python 3 (ipykernel)",
   "language": "python",
   "name": "python3"
  },
  "language_info": {
   "codemirror_mode": {
    "name": "ipython",
    "version": 3
   },
   "file_extension": ".py",
   "mimetype": "text/x-python",
   "name": "python",
   "nbconvert_exporter": "python",
   "pygments_lexer": "ipython3",
   "version": "3.12.2"
  }
 },
 "nbformat": 4,
 "nbformat_minor": 5
}
